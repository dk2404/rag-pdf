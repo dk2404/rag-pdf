{
 "cells": [
  {
   "cell_type": "code",
   "execution_count": null,
   "id": "93644d1a",
   "metadata": {},
   "outputs": [],
   "source": [
    "!pip install PyPDF2\n",
    "!pip install tiktoken\n",
    "!pip install --upgrade langchain -q\n",
    "!pip install \"openai<1.0.0\"\n",
    "#!pip install openai==1.3.7\n",
    "!pip install sentence_transformers -q\n",
    "!pip install unstructured -q\n",
    "!pip install tabulate\n",
    "!pip install boto3\n",
    "!pip install pinecone-client\n",
    "!pip install pymupdf\n",
    "!pip install faiss-gpu"
   ]
  },
  {
   "cell_type": "code",
   "execution_count": null,
   "id": "06db8496",
   "metadata": {},
   "outputs": [],
   "source": [
    "import boto3\n",
    "from PyPDF2 import PdfReader\n",
    "from io import BytesIO\n",
    "from langchain.embeddings import SentenceTransformerEmbeddings\n",
    "from langchain.text_splitter import RecursiveCharacterTextSplitter\n",
    "import fitz  # PyMuPDF\n",
    "import tempfile\n",
    "import os\n",
    "from pinecone import Pinecone\n",
    "from sentence_transformers import SentenceTransformer\n",
    "import pandas as pd\n",
    "from langchain_community.vectorstores import FAISS\n",
    "from langchain.llms import OpenAI\n",
    "from langchain import FAISS\n",
    "from langchain.text_splitter import CharacterTextSplitter\n",
    "from langchain.chains.question_answering import load_qa_chain\n",
    "from langchain.callbacks import get_openai_callback"
   ]
  },
  {
   "cell_type": "code",
   "execution_count": null,
   "id": "15146db8",
   "metadata": {},
   "outputs": [],
   "source": [
    "# AWS credentials (replace these with your credentials)\n",
    "aws_access_key_id = '---'\n",
    "aws_secret_access_key = '---'\n",
    "\n",
    "# Bucket and file details\n",
    "bucket_name = '---'\n",
    "file_key = '---'"
   ]
  },
  {
   "cell_type": "code",
   "execution_count": null,
   "id": "3297a66b",
   "metadata": {},
   "outputs": [],
   "source": [
    "s3 = boto3.client('s3', \n",
    "                  aws_access_key_id=aws_access_key_id, \n",
    "                  aws_secret_access_key=aws_secret_access_key)"
   ]
  },
  {
   "cell_type": "code",
   "execution_count": null,
   "id": "58dd44e9",
   "metadata": {},
   "outputs": [],
   "source": [
    "# Read the file from S3 and save it to a temporary location\n",
    "try:\n",
    "    response = s3.get_object(Bucket=bucket_name, Key=file_key)\n",
    "    \n",
    "    # Get the response body stream\n",
    "    response_body = response['Body']\n",
    "    \n",
    "    # Create a temporary file to save the PDF\n",
    "    with tempfile.NamedTemporaryFile(delete=False) as temp_file:\n",
    "        temp_file.write(response_body.read())\n",
    "        temp_file_path = temp_file.name\n",
    "    \n",
    "    # Open the PDF file with PyMuPDF\n",
    "    pdf_document = fitz.open(temp_file_path)\n",
    "    \n",
    "    # Extract text from each page\n",
    "    text = \"\"\n",
    "    for page_num in range(len(pdf_document)):\n",
    "        page = pdf_document.load_page(page_num)\n",
    "        text += page.get_text()\n",
    "    \n",
    "    # Close the PDF document\n",
    "    pdf_document.close()\n",
    "    \n",
    "    # Remove the temporary file\n",
    "    os.unlink(temp_file_path)\n",
    "    \n",
    "    print(text)\n",
    "except Exception as e:\n",
    "    print(f\"Error reading PDF file from S3: {e}\")"
   ]
  },
  {
   "cell_type": "code",
   "execution_count": null,
   "id": "94fd7780",
   "metadata": {},
   "outputs": [],
   "source": [
    "text_splitter = CharacterTextSplitter(\n",
    "        separator=\"\\n\",\n",
    "        chunk_size=500,\n",
    "        chunk_overlap=150,\n",
    "        length_function=len\n",
    "    )\n",
    "chunks = text_splitter.split_text(text)"
   ]
  },
  {
   "cell_type": "code",
   "execution_count": null,
   "id": "c68797d8",
   "metadata": {},
   "outputs": [],
   "source": [
    "embeddings = SentenceTransformerEmbeddings(model_name=\"all-MiniLM-L6-v2\")"
   ]
  },
  {
   "cell_type": "code",
   "execution_count": null,
   "id": "a3a9785f",
   "metadata": {},
   "outputs": [],
   "source": [
    "vec_db = FAISS.from_texts(chunks, embeddings)"
   ]
  },
  {
   "cell_type": "code",
   "execution_count": null,
   "id": "3f86c5ba",
   "metadata": {},
   "outputs": [],
   "source": [
    "os.environ['OPENAI_API_KEY']=\"---\""
   ]
  },
  {
   "cell_type": "code",
   "execution_count": null,
   "id": "4a00b226",
   "metadata": {},
   "outputs": [],
   "source": [
    "llm = OpenAI()"
   ]
  },
  {
   "cell_type": "code",
   "execution_count": null,
   "id": "b3755098",
   "metadata": {},
   "outputs": [],
   "source": [
    "query = \"---\" #Add the User question\n",
    "res_1 = vec_db.similarity_search(query)"
   ]
  },
  {
   "cell_type": "code",
   "execution_count": null,
   "id": "b8102b3a",
   "metadata": {},
   "outputs": [],
   "source": [
    "prompt = f\"\"\"\n",
    "You are a text summarizer.\n",
    "Follow exactly those 3 steps:\n",
    "1. Read the context below and answer the user question\n",
    "Context : {res_1}\n",
    "2. Answer the question using only this context\n",
    "3. If you dont know the answer, reply \"Need More Context\"\n",
    "User Question: {query}\n",
    "\n",
    "If you don't have any context and are unsure of the answer, reply that you don't know about this topic.\n",
    "\"\"\""
   ]
  },
  {
   "cell_type": "code",
   "execution_count": null,
   "id": "eb3d1142",
   "metadata": {},
   "outputs": [],
   "source": [
    "act = llm(PROMPT)"
   ]
  },
  {
   "cell_type": "code",
   "execution_count": null,
   "id": "9ca2bbc4",
   "metadata": {},
   "outputs": [],
   "source": [
    "act"
   ]
  },
  {
   "cell_type": "code",
   "execution_count": null,
   "id": "a750d274",
   "metadata": {},
   "outputs": [],
   "source": []
  }
 ],
 "metadata": {
  "kernelspec": {
   "display_name": "Python 3 (ipykernel)",
   "language": "python",
   "name": "python3"
  },
  "language_info": {
   "codemirror_mode": {
    "name": "ipython",
    "version": 3
   },
   "file_extension": ".py",
   "mimetype": "text/x-python",
   "name": "python",
   "nbconvert_exporter": "python",
   "pygments_lexer": "ipython3",
   "version": "3.9.2rc1"
  }
 },
 "nbformat": 4,
 "nbformat_minor": 5
}
